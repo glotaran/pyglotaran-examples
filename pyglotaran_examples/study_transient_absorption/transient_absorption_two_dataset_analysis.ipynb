{
 "cells": [
  {
   "cell_type": "markdown",
   "id": "0",
   "metadata": {},
   "source": [
    "### Load data"
   ]
  },
  {
   "cell_type": "code",
   "execution_count": null,
   "id": "1",
   "metadata": {},
   "outputs": [],
   "source": [
    "from glotaran.io import load_dataset\n",
    "\n",
    "experiment_data = {\n",
    "    \"dataset1\": load_dataset(\"data/2016co_tol.ascii\"),\n",
    "    \"dataset2\": load_dataset(\"data/2016c2o_tol.ascii\"),\n",
    "}"
   ]
  },
  {
   "cell_type": "markdown",
   "id": "2",
   "metadata": {},
   "source": [
    "### Load model and parameters, define scheme"
   ]
  },
  {
   "cell_type": "code",
   "execution_count": null,
   "id": "3",
   "metadata": {},
   "outputs": [],
   "source": [
    "from glotaran.io import load_model, load_parameters\n",
    "from glotaran.project.scheme import Scheme\n",
    "\n",
    "model = load_model(\"models/model_2d_co_co2.yml\")\n",
    "parameters = load_parameters(\"models/parameters_2d_co_co2.yml\")\n",
    "\n",
    "scheme = Scheme(\n",
    "    model,\n",
    "    parameters,\n",
    "    experiment_data,\n",
    "    maximum_number_function_evaluations=11,\n",
    ")"
   ]
  },
  {
   "cell_type": "code",
   "execution_count": null,
   "id": "4",
   "metadata": {},
   "outputs": [],
   "source": [
    "from glotaran.optimization.optimize import optimize\n",
    "\n",
    "result = optimize(scheme)"
   ]
  },
  {
   "cell_type": "code",
   "execution_count": null,
   "id": "5",
   "metadata": {},
   "outputs": [],
   "source": [
    "result"
   ]
  },
  {
   "cell_type": "code",
   "execution_count": null,
   "id": "6",
   "metadata": {},
   "outputs": [],
   "source": [
    "from pyglotaran_extras.io import setup_case_study\n",
    "\n",
    "from glotaran.io import save_result\n",
    "\n",
    "results_folder, _ = setup_case_study(output_folder_name=\"pyglotaran_examples_results\")\n",
    "save_result(result, results_folder / \"two_dataset_analysis/result.yml\", allow_overwrite=True);"
   ]
  },
  {
   "cell_type": "markdown",
   "id": "7",
   "metadata": {},
   "source": [
    "### Plotting"
   ]
  },
  {
   "cell_type": "code",
   "execution_count": null,
   "id": "8",
   "metadata": {},
   "outputs": [],
   "source": [
    "from pyglotaran_extras import plot_overview\n",
    "\n",
    "plot_overview(result.data[\"dataset1\"])\n",
    "plot_overview(result.data[\"dataset2\"]);"
   ]
  }
 ],
 "metadata": {
  "kernelspec": {
   "display_name": "pygta-staging",
   "language": "python",
   "name": "python3"
  },
  "language_info": {
   "codemirror_mode": {
    "name": "ipython",
    "version": 3
   },
   "file_extension": ".py",
   "mimetype": "text/x-python",
   "name": "python",
   "nbconvert_exporter": "python",
   "pygments_lexer": "ipython3"
  }
 },
 "nbformat": 4,
 "nbformat_minor": 5
}
