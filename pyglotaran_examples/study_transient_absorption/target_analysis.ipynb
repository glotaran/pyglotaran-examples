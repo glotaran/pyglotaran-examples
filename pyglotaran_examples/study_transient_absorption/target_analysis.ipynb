{
 "cells": [
  {
   "cell_type": "code",
   "execution_count": null,
   "metadata": {},
   "outputs": [],
   "source": [
    "from glotaran.io import load_parameters\n",
    "\n",
    "parameters = load_parameters(\"models/parameters.yml\")"
   ]
  },
  {
   "cell_type": "code",
   "execution_count": null,
   "metadata": {},
   "outputs": [],
   "source": [
    "from glotaran.utils.json_schema import create_model_scheme_json_schema\n",
    "\n",
    "create_model_scheme_json_schema(\"models/schema.json\",parameters)"
   ]
  },
  {
   "cell_type": "code",
   "execution_count": null,
   "metadata": {},
   "outputs": [],
   "source": [
    "from glotaran.io import load_scheme\n",
    "\n",
    "scheme = load_scheme(\"models/scheme.yml\")"
   ]
  },
  {
   "cell_type": "code",
   "execution_count": null,
   "metadata": {},
   "outputs": [],
   "source": [
    "from glotaran.io import load_dataset\n",
    "\n",
    "scheme.load_data({\"dataset1\": load_dataset(\"data/demo_data_Hippius_etal_JPCC2007_111_13988_Figs5_9.ascii\")})"
   ]
  },
  {
   "cell_type": "code",
   "execution_count": null,
   "metadata": {},
   "outputs": [],
   "source": [
    "result=scheme.optimize(parameters=parameters,maximum_number_function_evaluations=7)"
   ]
  },
  {
   "cell_type": "code",
   "execution_count": null,
   "metadata": {},
   "outputs": [],
   "source": [
    "from pyglotaran_extras import plot_overview\n",
    "from pyglotaran_extras.compat import convert\n",
    "\n",
    "result_plot, _ = plot_overview(convert(result.data[\"dataset1\"]), linlog=True)"
   ]
  }
 ],
 "metadata": {
  "kernelspec": {
   "display_name": "pygta-staging",
   "language": "python",
   "name": "python3"
  },
  "language_info": {
   "codemirror_mode": {
    "name": "ipython",
    "version": 3
   },
   "file_extension": ".py",
   "mimetype": "text/x-python",
   "name": "python",
   "nbconvert_exporter": "python",
   "pygments_lexer": "ipython3"
  }
 },
 "nbformat": 4,
 "nbformat_minor": 2
}
