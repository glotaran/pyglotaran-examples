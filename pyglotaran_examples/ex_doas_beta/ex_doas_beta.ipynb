{
 "cells": [
  {
   "cell_type": "code",
   "execution_count": null,
   "id": "0",
   "metadata": {
    "execution": {
     "iopub.execute_input": "2024-06-02T20:25:15.826567Z",
     "iopub.status.busy": "2024-06-02T20:25:15.826567Z",
     "iopub.status.idle": "2024-06-02T20:25:16.650306Z",
     "shell.execute_reply": "2024-06-02T20:25:16.650306Z"
    },
    "papermill": {
     "duration": 0.829246,
     "end_time": "2024-06-02T20:25:16.652306",
     "exception": false,
     "start_time": "2024-06-02T20:25:15.823060",
     "status": "completed"
    },
    "tags": []
   },
   "outputs": [],
   "source": [
    "from glotaran.io import load_parameters\n",
    "\n",
    "parameters = load_parameters(\"models/parameters.yml\")"
   ]
  },
  {
   "cell_type": "code",
   "execution_count": null,
   "id": "3",
   "metadata": {
    "execution": {
     "iopub.execute_input": "2024-06-02T20:25:16.717585Z",
     "iopub.status.busy": "2024-06-02T20:25:16.717585Z",
     "iopub.status.idle": "2024-06-02T20:25:16.899392Z",
     "shell.execute_reply": "2024-06-02T20:25:16.898842Z"
    },
    "papermill": {
     "duration": 0.184764,
     "end_time": "2024-06-02T20:25:16.900430",
     "exception": false,
     "start_time": "2024-06-02T20:25:16.715666",
     "status": "completed"
    },
    "tags": []
   },
   "outputs": [],
   "source": [
    "from glotaran.io import load_dataset\n",
    "\n",
    "dataset = load_dataset(\"data/2008Polli_betacar_chex_sim.ascii\")"
   ]
  },
  {
   "cell_type": "code",
   "execution_count": null,
   "id": "2",
   "metadata": {
    "execution": {
     "iopub.execute_input": "2024-06-02T20:25:16.687415Z",
     "iopub.status.busy": "2024-06-02T20:25:16.687415Z",
     "iopub.status.idle": "2024-06-02T20:25:16.712667Z",
     "shell.execute_reply": "2024-06-02T20:25:16.712667Z"
    },
    "papermill": {
     "duration": 0.028759,
     "end_time": "2024-06-02T20:25:16.713667",
     "exception": false,
     "start_time": "2024-06-02T20:25:16.684908",
     "status": "completed"
    },
    "tags": []
   },
   "outputs": [],
   "source": [
    "from glotaran.io import load_model\n",
    "from glotaran.project.scheme import Scheme\n",
    "model = load_model(\"models/model.yml\")\n",
    "\n",
    "scheme = Scheme(\n",
    "        model=model,\n",
    "        parameters=parameters,\n",
    "        data={\"dataset1\": dataset},\n",
    "        optimization_method=\"TrustRegionReflection\",\n",
    "        # maximum_number_function_evaluations=3,\n",
    "        maximum_number_function_evaluations=1,\n",
    "    )"
   ]
  },
  {
   "cell_type": "code",
   "execution_count": null,
   "id": "4",
   "metadata": {
    "execution": {
     "iopub.execute_input": "2024-06-02T20:25:16.904966Z",
     "iopub.status.busy": "2024-06-02T20:25:16.904966Z",
     "iopub.status.idle": "2024-06-02T20:25:33.020106Z",
     "shell.execute_reply": "2024-06-02T20:25:33.020106Z"
    },
    "papermill": {
     "duration": 16.118869,
     "end_time": "2024-06-02T20:25:33.021108",
     "exception": false,
     "start_time": "2024-06-02T20:25:16.902239",
     "status": "completed"
    },
    "tags": []
   },
   "outputs": [],
   "source": [
    "from glotaran.optimization.optimize import optimize\n",
    "result = optimize(scheme)"
   ]
  },
  {
   "cell_type": "code",
   "execution_count": null,
   "id": "5",
   "metadata": {
    "execution": {
     "iopub.execute_input": "2024-06-02T20:25:33.026609Z",
     "iopub.status.busy": "2024-06-02T20:25:33.025107Z",
     "iopub.status.idle": "2024-06-02T20:25:33.610556Z",
     "shell.execute_reply": "2024-06-02T20:25:33.610556Z"
    },
    "papermill": {
     "duration": 0.587449,
     "end_time": "2024-06-02T20:25:33.611556",
     "exception": false,
     "start_time": "2024-06-02T20:25:33.024107",
     "status": "completed"
    },
    "tags": []
   },
   "outputs": [],
   "source": [
    "from pyglotaran_extras.io import setup_case_study\n",
    "from glotaran.io import save_result\n",
    "results_folder, _ = setup_case_study(output_folder_name=\"pyglotaran_examples_results_staging\")\n",
    "results_folder = results_folder / \"target_analysis\"\n",
    "save_result(result, results_folder / \"result.yml\", allow_overwrite=True)\n"
   ]
  },
  {
   "cell_type": "code",
   "execution_count": null,
   "id": "6",
   "metadata": {
    "execution": {
     "iopub.execute_input": "2024-06-02T20:25:33.616556Z",
     "iopub.status.busy": "2024-06-02T20:25:33.615556Z",
     "iopub.status.idle": "2024-06-02T20:25:35.868940Z",
     "shell.execute_reply": "2024-06-02T20:25:35.868940Z"
    },
    "papermill": {
     "duration": 2.256334,
     "end_time": "2024-06-02T20:25:35.869889",
     "exception": false,
     "start_time": "2024-06-02T20:25:33.613555",
     "status": "completed"
    },
    "tags": []
   },
   "outputs": [],
   "source": [
    "from pyglotaran_extras import plot_overview\n",
    "\n",
    "result_plot, _ = plot_overview(result.data[\"dataset1\"], linlog=True)"
   ]
  },
  {
   "cell_type": "code",
   "execution_count": null,
   "id": "7",
   "metadata": {
    "execution": {
     "iopub.execute_input": "2024-06-02T20:25:35.884406Z",
     "iopub.status.busy": "2024-06-02T20:25:35.884406Z",
     "iopub.status.idle": "2024-06-02T20:25:36.197357Z",
     "shell.execute_reply": "2024-06-02T20:25:36.196853Z"
    },
    "papermill": {
     "duration": 0.321971,
     "end_time": "2024-06-02T20:25:36.198361",
     "exception": false,
     "start_time": "2024-06-02T20:25:35.876390",
     "status": "completed"
    },
    "tags": []
   },
   "outputs": [],
   "source": [
    "from glotaran.io import save_dataset\n",
    "\n",
    "for data_path in results_folder.rglob(\"*.nc\"):\n",
    "    save_dataset(\n",
    "        load_dataset(data_path), results_folder / data_path.name, allow_overwrite=True\n",
    "    )\n",
    "    data_path.unlink()"
   ]
  },
  {
   "cell_type": "code",
   "execution_count": null,
   "id": "74bb99a7",
   "metadata": {},
   "outputs": [],
   "source": [
    "result.data[\"dataset1\"]"
   ]
  },
  {
   "cell_type": "code",
   "execution_count": null,
   "id": "61ce4629",
   "metadata": {},
   "outputs": [],
   "source": [
    "from pyglotaran_extras import plot_doas\n",
    "plot_doas(result.data[\"dataset1\"])"
   ]
  }
 ],
 "metadata": {
  "kernelspec": {
   "display_name": "pygta-staging",
   "language": "python",
   "name": "python3"
  },
  "language_info": {
   "codemirror_mode": {
    "name": "ipython",
    "version": 3
   },
   "file_extension": ".py",
   "mimetype": "text/x-python",
   "name": "python",
   "nbconvert_exporter": "python",
   "pygments_lexer": "ipython3",
   "version": "3.10.14"
  },
  "papermill": {
   "default_parameters": {},
   "duration": 22.162931,
   "end_time": "2024-06-02T20:25:36.664331",
   "environment_variables": {},
   "exception": null,
   "input_path": "C:\\Users\\jsnel\\src\\pyglotaran-staging\\pyglotaran-examples\\pyglotaran_examples\\ex_doas_beta\\ex_doas_beta.ipynb",
   "output_path": "C:\\Users\\jsnel\\src\\pyglotaran-staging\\pyglotaran-examples\\pyglotaran_examples\\ex_doas_beta\\ex_doas_beta.ipynb",
   "parameters": {},
   "start_time": "2024-06-02T20:25:14.501400",
   "version": "2.6.0"
  }
 },
 "nbformat": 4,
 "nbformat_minor": 5
}
