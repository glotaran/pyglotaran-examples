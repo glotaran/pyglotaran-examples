{
 "cells": [
  {
   "cell_type": "markdown",
   "id": "0",
   "metadata": {
    "tags": []
   },
   "source": [
    "# Global and target analysis of time-resolved fluorescence data\n",
    "\n",
    "From a single experiment on Photosystem I\n",
    "\n",
    "### Reference\n",
    "\n",
    "DOI: <TODO>"
   ]
  },
  {
   "cell_type": "markdown",
   "id": "1",
   "metadata": {
    "tags": []
   },
   "source": [
    "### Imports"
   ]
  },
  {
   "cell_type": "code",
   "execution_count": null,
   "id": "2",
   "metadata": {
    "tags": []
   },
   "outputs": [],
   "source": [
    "# imports\n",
    "from pyglotaran_extras.compat import convert\n",
    "from pyglotaran_extras.io import setup_case_study\n",
    "\n",
    "from glotaran.io import load_dataset, load_parameters, load_scheme"
   ]
  },
  {
   "cell_type": "code",
   "execution_count": null,
   "id": "3",
   "metadata": {
    "tags": []
   },
   "outputs": [],
   "source": [
    "# extra import for plotting\n",
    "import matplotlib.pyplot as plt\n",
    "from pyglotaran_extras.plotting.plot_overview import plot_overview\n",
    "from pyglotaran_extras.plotting.style import PlotStyle"
   ]
  },
  {
   "cell_type": "markdown",
   "id": "4",
   "metadata": {
    "tags": []
   },
   "source": [
    "### Location of data files\n",
    "\n",
    "Note that for the sake of reproduciblity we seperate the model used for global analysis from the model used for target analysis. \n",
    "\n",
    "We will use the same data files for both analyses.\n",
    "\n",
    "<sub>Note: when comparing the results with previous results, we only use at the target analysis.</sub>"
   ]
  },
  {
   "cell_type": "code",
   "execution_count": null,
   "id": "5",
   "metadata": {
    "tags": []
   },
   "outputs": [],
   "source": [
    "# paths\n",
    "\n",
    "GA_MODEL_PATH = \"models/global_model.yaml\"\n",
    "GA_PARAMETERS_PATH = \"models/global_parameters.yaml\"\n",
    "\n",
    "results_folder, script_folder = setup_case_study(\n",
    "    output_folder_name=\"pyglotaran_examples_results_staging\",\n",
    ")\n",
    "\n",
    "data_path = script_folder.joinpath(\"data/data.ascii\")\n",
    "model_path = script_folder.joinpath(GA_MODEL_PATH)\n",
    "parameter_path = script_folder.joinpath(GA_PARAMETERS_PATH)"
   ]
  },
  {
   "cell_type": "markdown",
   "id": "6",
   "metadata": {
    "tags": []
   },
   "source": [
    "### Loading in data files"
   ]
  },
  {
   "cell_type": "code",
   "execution_count": null,
   "id": "7",
   "metadata": {
    "tags": []
   },
   "outputs": [],
   "source": [
    "# load the data\n",
    "experiment_data = {\"dataset1\": load_dataset(data_path)}\n",
    "# load the (model) scheme (library)\n",
    "scheme = load_scheme(model_path, format_name=\"yml\")\n",
    "# load the parameters\n",
    "parameters = load_parameters(parameter_path)\n",
    "# attach the data to the scheme\n",
    "scheme.load_data(experiment_data)\n",
    "\n",
    "# print(scheme.validate(parameters=parameters))"
   ]
  },
  {
   "cell_type": "markdown",
   "id": "8",
   "metadata": {
    "tags": []
   },
   "source": [
    "### Optimizing the global fit"
   ]
  },
  {
   "cell_type": "code",
   "execution_count": null,
   "id": "9",
   "metadata": {
    "tags": []
   },
   "outputs": [],
   "source": [
    "# Run the optimizer\n",
    "result = scheme.optimize(parameters, maximum_number_function_evaluations=6)\n",
    "\n",
    "convert(result)"
   ]
  },
  {
   "cell_type": "markdown",
   "id": "10",
   "metadata": {
    "tags": []
   },
   "source": [
    "### Saving results to file\n"
   ]
  },
  {
   "cell_type": "code",
   "execution_count": null,
   "id": "11",
   "metadata": {
    "tags": []
   },
   "outputs": [],
   "source": [
    "# Save the results\n",
    "result.save(results_folder, allow_overwrite=True)"
   ]
  },
  {
   "cell_type": "markdown",
   "id": "12",
   "metadata": {
    "tags": []
   },
   "source": [
    "### Inspection of results"
   ]
  },
  {
   "cell_type": "code",
   "execution_count": null,
   "id": "13",
   "metadata": {
    "tags": []
   },
   "outputs": [],
   "source": [
    "# Inspect the results\n",
    "res = convert(result.data[\"dataset1\"])\n",
    "\n",
    "res"
   ]
  },
  {
   "cell_type": "code",
   "execution_count": null,
   "id": "14",
   "metadata": {
    "tags": []
   },
   "outputs": [],
   "source": [
    "# TODO: handle downstream conversion\n"
   ]
  },
  {
   "cell_type": "markdown",
   "id": "15",
   "metadata": {
    "tags": []
   },
   "source": [
    "### Plotting of results\n",
    "\n",
    "This requires pyglotaran-extras\n"
   ]
  },
  {
   "cell_type": "code",
   "execution_count": null,
   "id": "16",
   "metadata": {
    "tags": []
   },
   "outputs": [],
   "source": [
    "# Plot the results\n",
    "\n",
    "# %% Set subsequent plots to the glotaran style\n",
    "plot_style = PlotStyle()\n",
    "plt.rc(\"axes\", prop_cycle=plot_style.cycler)\n",
    "\n",
    "# %%\n",
    "fig, _ = plot_overview(res, linlog=False)\n",
    "# note species concentration plot still needs work to match styles between the two locatable axis\n",
    "\n",
    "# %%\n",
    "figure_output_path = results_folder / f\"plot_overview_{results_folder.name}.pdf\"\n",
    "fig.savefig(str(figure_output_path), bbox_inches=\"tight\")\n",
    "print(results_folder)"
   ]
  },
  {
   "cell_type": "markdown",
   "id": "17",
   "metadata": {
    "tags": []
   },
   "source": [
    "## Target analysis"
   ]
  },
  {
   "cell_type": "code",
   "execution_count": null,
   "id": "18",
   "metadata": {
    "tags": []
   },
   "outputs": [],
   "source": [
    "TA_MODEL_PATH = \"models/target_model.yaml\"\n",
    "TA_PARAMETERS_PATH = \"models/target_parameters.yaml\"\n",
    "\n",
    "results_folder, script_folder = setup_case_study(\n",
    "    output_folder_name=\"pyglotaran_examples_results_staging\",\n",
    ")\n",
    "results_folder / \"study_fluorescence\"\n",
    "\n",
    "data_path = script_folder.joinpath(\"data/data.ascii\")\n",
    "model_path = script_folder.joinpath(TA_MODEL_PATH)\n",
    "parameter_path = script_folder.joinpath(TA_PARAMETERS_PATH)\n",
    "\n",
    "experiment_data = {\"dataset1\": load_dataset(data_path)}\n",
    "scheme = load_scheme(model_path, format_name=\"yml\")\n",
    "parameters = load_parameters(parameter_path)\n",
    "scheme.load_data(experiment_data)\n",
    "\n",
    "result = scheme.optimize(parameters, maximum_number_function_evaluations=6)"
   ]
  },
  {
   "cell_type": "code",
   "execution_count": null,
   "id": "19",
   "metadata": {
    "tags": []
   },
   "outputs": [],
   "source": [
    "print(result.parameters_optimized)"
   ]
  },
  {
   "cell_type": "code",
   "execution_count": null,
   "id": "20",
   "metadata": {
    "tags": []
   },
   "outputs": [],
   "source": [
    "result.save(results_folder, allow_overwrite=True)"
   ]
  },
  {
   "cell_type": "code",
   "execution_count": null,
   "id": "21",
   "metadata": {
    "tags": []
   },
   "outputs": [],
   "source": [
    "convert(result)"
   ]
  },
  {
   "cell_type": "code",
   "execution_count": null,
   "id": "22",
   "metadata": {
    "tags": []
   },
   "outputs": [],
   "source": [
    "res = convert(result.data[\"dataset1\"])"
   ]
  },
  {
   "cell_type": "code",
   "execution_count": null,
   "id": "23",
   "metadata": {
    "tags": []
   },
   "outputs": [],
   "source": [
    "# Plot the results\n",
    "\n",
    "# %% Set subsequent plots to the glotaran style\n",
    "plot_style = PlotStyle()\n",
    "plt.rc(\"axes\", prop_cycle=plot_style.cycler)\n",
    "\n",
    "# %%\n",
    "fig, _ = plot_overview(res, linlog=False)\n",
    "# note species concentration plot still needs work to match styles between the two locatable axis\n",
    "\n",
    "# %%\n",
    "figure_output_path = results_folder / f\"plot_overview_{results_folder.name}.pdf\"\n",
    "fig.savefig(str(figure_output_path), bbox_inches=\"tight\")\n",
    "print(results_folder)"
   ]
  },
  {
   "cell_type": "code",
   "execution_count": null,
   "id": "24",
   "metadata": {
    "tags": []
   },
   "outputs": [],
   "source": [
    "from glotaran.io import save_dataset\n",
    "\n",
    "for data_path in results_folder.rglob(\"*.nc\"):\n",
    "    save_dataset(\n",
    "        convert(load_dataset(data_path)), results_folder / data_path.name, allow_overwrite=True\n",
    "    )\n",
    "    data_path.unlink()"
   ]
  }
 ],
 "metadata": {
  "kernelspec": {
   "display_name": "pygta_staging",
   "language": "python",
   "name": "python3"
  },
  "language_info": {
   "codemirror_mode": {
    "name": "ipython",
    "version": 3
   },
   "file_extension": ".py",
   "mimetype": "text/x-python",
   "name": "python",
   "nbconvert_exporter": "python",
   "pygments_lexer": "ipython3"
  }
 },
 "nbformat": 4,
 "nbformat_minor": 5
}
