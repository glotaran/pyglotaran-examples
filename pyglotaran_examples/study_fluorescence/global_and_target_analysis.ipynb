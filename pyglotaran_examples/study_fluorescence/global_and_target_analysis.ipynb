{
 "cells": [
  {
   "cell_type": "markdown",
   "metadata": {},
   "source": [
    "# Global and target analysis of time-resolved fluorescence data\n",
    "\n",
    "From a single experiment on Photosystem I\n",
    "\n",
    "### Reference\n",
    "\n",
    "DOI: <TODO>"
   ]
  },
  {
   "cell_type": "markdown",
   "metadata": {},
   "source": [
    "### Imports"
   ]
  },
  {
   "cell_type": "code",
   "execution_count": null,
   "metadata": {},
   "outputs": [],
   "source": [
    "# imports\n",
    "import tempfile  # used to write to a temporary folder\n",
    "from pathlib import Path  # used to handle paths\n",
    "from glotaran.io import load_dataset, load_parameters, load_scheme\n",
    "from pyglotaran_extras.io import setup_case_study\n"
   ]
  },
  {
   "cell_type": "code",
   "execution_count": null,
   "metadata": {},
   "outputs": [],
   "source": [
    "# extra import for plotting\n",
    "import matplotlib.pyplot as plt\n",
    "\n",
    "from pyglotaran_extras.plotting.plot_overview import plot_overview\n",
    "from pyglotaran_extras.plotting.style import PlotStyle\n",
    "from pyglotaran_extras.compat.convert_dataset import convert\n"
   ]
  },
  {
   "cell_type": "markdown",
   "metadata": {},
   "source": [
    "### Location of data files\n",
    "\n",
    "Note that for the sake of reproduciblity we seperate the model used for global analysis from the model used for target analysis. \n",
    "\n",
    "We will use the same data files for both analyses.\n",
    "\n",
    "<sub>Note: when comparing the results with previous results, we only use at the target analysis.</sub>"
   ]
  },
  {
   "cell_type": "code",
   "execution_count": null,
   "metadata": {},
   "outputs": [],
   "source": [
    "# paths\n",
    "ga_output_path = tempfile.TemporaryDirectory().name\n",
    "\n",
    "GA_MODEL_PATH = \"models/global_model.yaml\"\n",
    "GA_PARAMETERS_PATH = \"models/global_parameters.yaml\"\n",
    "\n",
    "results_folder, script_folder = setup_case_study(\n",
    "    output_folder_name=\"pyglotaran_examples_results_staging\",\n",
    "    results_folder_root=str(ga_output_path),\n",
    ")\n",
    "\n",
    "data_path = script_folder.joinpath(\"data/data.ascii\")\n",
    "model_path = script_folder.joinpath(GA_MODEL_PATH)\n",
    "parameter_path = script_folder.joinpath(GA_PARAMETERS_PATH)\n"
   ]
  },
  {
   "cell_type": "markdown",
   "metadata": {},
   "source": [
    "### Loading in data files"
   ]
  },
  {
   "cell_type": "code",
   "execution_count": null,
   "metadata": {},
   "outputs": [],
   "source": [
    "# load the data\n",
    "experiment_data = {\"dataset1\": load_dataset(data_path)}\n",
    "# load the (model) scheme (library)\n",
    "scheme = load_scheme(model_path, format_name=\"yml\")\n",
    "# load the parameters\n",
    "parameters = load_parameters(parameter_path)\n",
    "# attach the data to the scheme\n",
    "scheme.load_data(experiment_data)\n",
    "\n",
    "# print(scheme.validate(parameters=parameters))\n"
   ]
  },
  {
   "cell_type": "markdown",
   "metadata": {},
   "source": [
    "### Optimizing the global fit"
   ]
  },
  {
   "cell_type": "code",
   "execution_count": null,
   "metadata": {},
   "outputs": [],
   "source": [
    "# Run the optimizer\n",
    "result = scheme.optimize(parameters, maximum_number_function_evaluations=6)\n",
    "\n",
    "print(result)\n"
   ]
  },
  {
   "cell_type": "markdown",
   "metadata": {},
   "source": [
    "### Saving results to file\n"
   ]
  },
  {
   "cell_type": "code",
   "execution_count": null,
   "metadata": {},
   "outputs": [],
   "source": [
    "# Save the results\n",
    "result.save(results_folder, allow_overwrite=True)\n",
    "\n"
   ]
  },
  {
   "cell_type": "markdown",
   "metadata": {},
   "source": [
    "### Inspection of results"
   ]
  },
  {
   "cell_type": "code",
   "execution_count": null,
   "metadata": {},
   "outputs": [],
   "source": [
    "# Inspect the results\n",
    "res = convert(result.data[\"dataset1\"])\n",
    "\n",
    "print(res)\n"
   ]
  },
  {
   "cell_type": "code",
   "execution_count": null,
   "metadata": {},
   "outputs": [],
   "source": [
    "# TODO: handle downstream conversion\n"
   ]
  },
  {
   "cell_type": "markdown",
   "metadata": {},
   "source": [
    "### Plotting of results\n",
    "\n",
    "This requires pyglotaran-extras\n",
    "\n",
    "#### Extra imports\n",
    "\n",
    "Additional imports from pyglotaran-extras are required for plotting."
   ]
  },
  {
   "cell_type": "code",
   "execution_count": null,
   "metadata": {},
   "outputs": [],
   "source": [
    "# Plot the results\n",
    "\n",
    "# %% Set subsequent plots to the glotaran style\n",
    "plot_style = PlotStyle()\n",
    "plt.rc(\"axes\", prop_cycle=plot_style.cycler)\n",
    "\n",
    "# %%\n",
    "fig, _ = plot_overview(res, linlog=False)\n",
    "# note species concentration plot still needs work to match styles between the two locatable axis\n",
    "\n",
    "# %%\n",
    "figure_output_path = results_folder / f\"plot_overview_{results_folder.name}.pdf\"\n",
    "fig.savefig(str(figure_output_path), bbox_inches=\"tight\")\n",
    "print(results_folder)\n"
   ]
  },
  {
   "cell_type": "markdown",
   "metadata": {},
   "source": [
    "## Target analysis"
   ]
  },
  {
   "cell_type": "code",
   "execution_count": null,
   "metadata": {},
   "outputs": [],
   "source": [
    "ta_output_path = tempfile.TemporaryDirectory().name\n",
    "TA_MODEL_PATH = \"models/target_model.yaml\"\n",
    "TA_PARAMETERS_PATH = \"models/target_parameters.yaml\"\n",
    "\n",
    "results_folder, script_folder = setup_case_study(\n",
    "    output_folder_name=\"pyglotaran_examples_results_staging\",\n",
    "    results_folder_root=ta_output_path,\n",
    ")\n",
    "\n",
    "data_path = script_folder.joinpath(\"data/data.ascii\")\n",
    "model_path = script_folder.joinpath(GA_MODEL_PATH)\n",
    "parameter_path = script_folder.joinpath(GA_PARAMETERS_PATH)\n",
    "\n",
    "experiment_data = {\"dataset1\": load_dataset(data_path)}\n",
    "scheme = load_scheme(model_path, format_name=\"yml\")\n",
    "parameters = load_parameters(parameter_path)\n",
    "scheme.load_data(experiment_data)\n",
    "\n",
    "result = scheme.optimize(parameters, maximum_number_function_evaluations=6)\n"
   ]
  },
  {
   "cell_type": "code",
   "execution_count": null,
   "metadata": {},
   "outputs": [],
   "source": [
    "result.save(results_folder, allow_overwrite=True)\n"
   ]
  },
  {
   "cell_type": "code",
   "execution_count": null,
   "metadata": {},
   "outputs": [],
   "source": [
    "res = convert(result.data[\"dataset1\"])\n"
   ]
  },
  {
   "cell_type": "code",
   "execution_count": null,
   "metadata": {},
   "outputs": [],
   "source": [
    "# Plot the results\n",
    "\n",
    "# %% Set subsequent plots to the glotaran style\n",
    "plot_style = PlotStyle()\n",
    "plt.rc(\"axes\", prop_cycle=plot_style.cycler)\n",
    "\n",
    "# %%\n",
    "fig, _ = plot_overview(res, linlog=False)\n",
    "# note species concentration plot still needs work to match styles between the two locatable axis\n",
    "\n",
    "# %%\n",
    "figure_output_path = results_folder / f\"plot_overview_{results_folder.name}.pdf\"\n",
    "fig.savefig(str(figure_output_path), bbox_inches=\"tight\")\n",
    "print(results_folder)\n"
   ]
  }
 ],
 "metadata": {
  "kernelspec": {
   "display_name": "pygta_staging",
   "language": "python",
   "name": "python3"
  },
  "language_info": {
   "codemirror_mode": {
    "name": "ipython",
    "version": 3
   },
   "file_extension": ".py",
   "mimetype": "text/x-python",
   "name": "python",
   "nbconvert_exporter": "python",
   "pygments_lexer": "ipython3",
   "version": "3.10.13"
  }
 },
 "nbformat": 4,
 "nbformat_minor": 2
}
