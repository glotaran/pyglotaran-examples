{
 "cells": [
  {
   "cell_type": "markdown",
   "id": "f29aff69",
   "metadata": {},
   "source": [
    "### Load data"
   ]
  },
  {
   "cell_type": "code",
   "execution_count": null,
   "id": "3",
   "metadata": {
    "execution": {
     "iopub.execute_input": "2024-06-02T20:24:17.567490Z",
     "iopub.status.busy": "2024-06-02T20:24:17.567490Z",
     "iopub.status.idle": "2024-06-02T20:24:17.685588Z",
     "shell.execute_reply": "2024-06-02T20:24:17.685588Z"
    },
    "papermill": {
     "duration": 0.122638,
     "end_time": "2024-06-02T20:24:17.687621",
     "exception": false,
     "start_time": "2024-06-02T20:24:17.564983",
     "status": "completed"
    },
    "tags": []
   },
   "outputs": [],
   "source": [
    "from glotaran.io import load_dataset\n",
    "\n",
    "dataset1 = load_dataset(\"equareaIRFdispscalsima.ascii\")\n",
    "dataset2 = load_dataset(\"equareaIRFdispscalsimb.ascii\")\n",
    "dataset3 = load_dataset(\"equareaIRFdispscalsimc.ascii\")"
   ]
  },
  {
   "cell_type": "markdown",
   "id": "9c0491dc",
   "metadata": {},
   "source": [
    "### Load model and parameters, define scheme"
   ]
  },
  {
   "cell_type": "code",
   "execution_count": null,
   "id": "2",
   "metadata": {
    "execution": {
     "iopub.execute_input": "2024-06-02T20:24:17.536439Z",
     "iopub.status.busy": "2024-06-02T20:24:17.535438Z",
     "iopub.status.idle": "2024-06-02T20:24:17.561982Z",
     "shell.execute_reply": "2024-06-02T20:24:17.561982Z"
    },
    "papermill": {
     "duration": 0.029545,
     "end_time": "2024-06-02T20:24:17.562983",
     "exception": false,
     "start_time": "2024-06-02T20:24:17.533438",
     "status": "completed"
    },
    "tags": []
   },
   "outputs": [],
   "source": [
    "from glotaran.io import load_model\n",
    "from glotaran.io import load_parameters\n",
    "from glotaran.project.scheme import Scheme\n",
    "model = load_model(\"model.yml\")\n",
    "parameters = load_parameters(\"parameters.yml\")\n",
    "\n",
    "scheme = Scheme(\n",
    "    model,\n",
    "    parameters,\n",
    "    {\"dataset1\": dataset1, \"dataset2\": dataset2, \"dataset3\": dataset3},\n",
    "    maximum_number_function_evaluations=5,  # TRF needs nfev=4, LM needs nfev=55\n",
    "    # optimization_method=\"Levenberg-Marquardt\", # LM needs nfev=55\n",
    ")"
   ]
  },
  {
   "cell_type": "markdown",
   "id": "9f34265b",
   "metadata": {},
   "source": [
    "### Optimization \n",
    "Fitting model to the data according to the scheme, optimizing the parameters."
   ]
  },
  {
   "cell_type": "code",
   "execution_count": null,
   "id": "4",
   "metadata": {
    "execution": {
     "iopub.execute_input": "2024-06-02T20:24:17.692625Z",
     "iopub.status.busy": "2024-06-02T20:24:17.692625Z",
     "iopub.status.idle": "2024-06-02T20:24:20.033656Z",
     "shell.execute_reply": "2024-06-02T20:24:20.033656Z"
    },
    "papermill": {
     "duration": 2.346032,
     "end_time": "2024-06-02T20:24:20.035657",
     "exception": false,
     "start_time": "2024-06-02T20:24:17.689625",
     "status": "completed"
    },
    "tags": []
   },
   "outputs": [],
   "source": [
    "from glotaran.optimization.optimize import optimize\n",
    "result = optimize(scheme)"
   ]
  },
  {
   "cell_type": "code",
   "execution_count": null,
   "id": "5",
   "metadata": {
    "execution": {
     "iopub.execute_input": "2024-06-02T20:24:20.040669Z",
     "iopub.status.busy": "2024-06-02T20:24:20.040669Z",
     "iopub.status.idle": "2024-06-02T20:24:20.645109Z",
     "shell.execute_reply": "2024-06-02T20:24:20.645109Z"
    },
    "papermill": {
     "duration": 0.608948,
     "end_time": "2024-06-02T20:24:20.646613",
     "exception": false,
     "start_time": "2024-06-02T20:24:20.037665",
     "status": "completed"
    },
    "tags": []
   },
   "outputs": [],
   "source": [
    "from pyglotaran_extras.io import setup_case_study\n",
    "from glotaran.io import save_result\n",
    "results_folder, _ = setup_case_study(output_folder_name=\"pyglotaran_examples_results\")\n",
    "save_result(result, results_folder / \"result.yml\", allow_overwrite=True)\n"
   ]
  },
  {
   "cell_type": "code",
   "execution_count": null,
   "id": "6",
   "metadata": {
    "execution": {
     "iopub.execute_input": "2024-06-02T20:24:20.651673Z",
     "iopub.status.busy": "2024-06-02T20:24:20.651673Z",
     "iopub.status.idle": "2024-06-02T20:24:23.245922Z",
     "shell.execute_reply": "2024-06-02T20:24:23.245365Z"
    },
    "papermill": {
     "duration": 2.598318,
     "end_time": "2024-06-02T20:24:23.246982",
     "exception": false,
     "start_time": "2024-06-02T20:24:20.648664",
     "status": "completed"
    },
    "tags": []
   },
   "outputs": [],
   "source": [
    "from pyglotaran_extras import plot_overview\n",
    "\n",
    "result_plot_ds1, _ = plot_overview(result.data[\"dataset1\"], linlog=True)"
   ]
  },
  {
   "cell_type": "code",
   "execution_count": null,
   "id": "7",
   "metadata": {
    "execution": {
     "iopub.execute_input": "2024-06-02T20:24:23.259250Z",
     "iopub.status.busy": "2024-06-02T20:24:23.258739Z",
     "iopub.status.idle": "2024-06-02T20:24:25.684721Z",
     "shell.execute_reply": "2024-06-02T20:24:25.684721Z"
    },
    "papermill": {
     "duration": 2.43311,
     "end_time": "2024-06-02T20:24:25.685722",
     "exception": false,
     "start_time": "2024-06-02T20:24:23.252612",
     "status": "completed"
    },
    "tags": []
   },
   "outputs": [],
   "source": [
    "result_plot_ds2, _ = plot_overview(result.data[\"dataset2\"], linlog=True)"
   ]
  },
  {
   "cell_type": "code",
   "execution_count": null,
   "id": "8",
   "metadata": {
    "execution": {
     "iopub.execute_input": "2024-06-02T20:24:25.705688Z",
     "iopub.status.busy": "2024-06-02T20:24:25.705688Z",
     "iopub.status.idle": "2024-06-02T20:24:28.163228Z",
     "shell.execute_reply": "2024-06-02T20:24:28.163228Z"
    },
    "papermill": {
     "duration": 2.468779,
     "end_time": "2024-06-02T20:24:28.164230",
     "exception": false,
     "start_time": "2024-06-02T20:24:25.695451",
     "status": "completed"
    },
    "tags": []
   },
   "outputs": [],
   "source": [
    "result_plot_ds3, _ = plot_overview(result.data[\"dataset3\"], linlog=True)"
   ]
  },
  {
   "cell_type": "code",
   "execution_count": null,
   "id": "9",
   "metadata": {
    "execution": {
     "iopub.execute_input": "2024-06-02T20:24:28.191304Z",
     "iopub.status.busy": "2024-06-02T20:24:28.191304Z",
     "iopub.status.idle": "2024-06-02T20:24:28.585379Z",
     "shell.execute_reply": "2024-06-02T20:24:28.585379Z"
    },
    "papermill": {
     "duration": 0.409127,
     "end_time": "2024-06-02T20:24:28.586881",
     "exception": false,
     "start_time": "2024-06-02T20:24:28.177754",
     "status": "completed"
    },
    "tags": []
   },
   "outputs": [],
   "source": [
    "from glotaran.io import save_dataset\n",
    "\n",
    "for data_path in results_folder.rglob(\"*.nc\"):\n",
    "    save_dataset(\n",
    "        load_dataset(data_path), results_folder / data_path.name, allow_overwrite=True\n",
    "    )\n",
    "    data_path.unlink()"
   ]
  }
 ],
 "metadata": {
  "kernelspec": {
   "display_name": "pygta-staging",
   "language": "python",
   "name": "python3"
  },
  "language_info": {
   "codemirror_mode": {
    "name": "ipython",
    "version": 3
   },
   "file_extension": ".py",
   "mimetype": "text/x-python",
   "name": "python",
   "nbconvert_exporter": "python",
   "pygments_lexer": "ipython3",
   "version": "3.10.14"
  },
  "papermill": {
   "default_parameters": {},
   "duration": 13.117536,
   "end_time": "2024-06-02T20:24:29.045076",
   "environment_variables": {},
   "exception": null,
   "input_path": "C:\\Users\\jsnel\\src\\pyglotaran-staging\\pyglotaran-examples\\pyglotaran_examples\\test\\simultaneous_analysis_3d_disp\\sim_analysis_script_3d_disp.ipynb",
   "output_path": "C:\\Users\\jsnel\\src\\pyglotaran-staging\\pyglotaran-examples\\pyglotaran_examples\\test\\simultaneous_analysis_3d_disp\\sim_analysis_script_3d_disp.ipynb",
   "parameters": {},
   "start_time": "2024-06-02T20:24:15.927540",
   "version": "2.6.0"
  }
 },
 "nbformat": 4,
 "nbformat_minor": 5
}
