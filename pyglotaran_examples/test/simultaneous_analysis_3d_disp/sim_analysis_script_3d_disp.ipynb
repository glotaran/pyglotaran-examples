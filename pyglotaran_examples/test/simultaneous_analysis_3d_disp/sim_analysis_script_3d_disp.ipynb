{
 "cells": [
  {
   "cell_type": "markdown",
   "id": "0",
   "metadata": {},
   "source": [
    "### Load data"
   ]
  },
  {
   "cell_type": "code",
   "execution_count": null,
   "id": "1",
   "metadata": {
    "tags": []
   },
   "outputs": [],
   "source": [
    "from glotaran.io import load_dataset\n",
    "\n",
    "dataset1 = load_dataset(\"equareaIRFdispscalsima.ascii\")\n",
    "dataset2 = load_dataset(\"equareaIRFdispscalsimb.ascii\")\n",
    "dataset3 = load_dataset(\"equareaIRFdispscalsimc.ascii\")"
   ]
  },
  {
   "cell_type": "markdown",
   "id": "2",
   "metadata": {},
   "source": [
    "### Load model and parameters, define scheme"
   ]
  },
  {
   "cell_type": "code",
   "execution_count": null,
   "id": "3",
   "metadata": {
    "tags": []
   },
   "outputs": [],
   "source": [
    "from glotaran.io import load_model, load_parameters\n",
    "from glotaran.project.scheme import Scheme\n",
    "\n",
    "model = load_model(\"model.yml\")\n",
    "parameters = load_parameters(\"parameters.yml\")\n",
    "\n",
    "scheme = Scheme(\n",
    "    model,\n",
    "    parameters,\n",
    "    {\"dataset1\": dataset1, \"dataset2\": dataset2, \"dataset3\": dataset3},\n",
    "    maximum_number_function_evaluations=5,  # TRF needs nfev=4, LM needs nfev=55\n",
    "    # optimization_method=\"Levenberg-Marquardt\", # LM needs nfev=55\n",
    ")"
   ]
  },
  {
   "cell_type": "markdown",
   "id": "4",
   "metadata": {},
   "source": [
    "### Optimization \n",
    "Fitting model to the data according to the scheme, optimizing the parameters."
   ]
  },
  {
   "cell_type": "code",
   "execution_count": null,
   "id": "5",
   "metadata": {
    "tags": []
   },
   "outputs": [],
   "source": [
    "from glotaran.optimization.optimize import optimize\n",
    "\n",
    "result = optimize(scheme)"
   ]
  },
  {
   "cell_type": "code",
   "execution_count": null,
   "id": "6",
   "metadata": {
    "tags": []
   },
   "outputs": [],
   "source": [
    "from pyglotaran_extras.io import setup_case_study\n",
    "\n",
    "from glotaran.io import save_result\n",
    "\n",
    "results_folder, _ = setup_case_study(output_folder_name=\"pyglotaran_examples_results\")\n",
    "save_result(result, results_folder / \"result.yml\", allow_overwrite=True)"
   ]
  },
  {
   "cell_type": "code",
   "execution_count": null,
   "id": "7",
   "metadata": {
    "tags": []
   },
   "outputs": [],
   "source": [
    "from pyglotaran_extras import plot_overview\n",
    "\n",
    "result_plot_ds1, _ = plot_overview(result.data[\"dataset1\"], linlog=True)"
   ]
  },
  {
   "cell_type": "code",
   "execution_count": null,
   "id": "8",
   "metadata": {
    "tags": []
   },
   "outputs": [],
   "source": [
    "result_plot_ds2, _ = plot_overview(result.data[\"dataset2\"], linlog=True)"
   ]
  },
  {
   "cell_type": "code",
   "execution_count": null,
   "id": "9",
   "metadata": {
    "tags": []
   },
   "outputs": [],
   "source": [
    "result_plot_ds3, _ = plot_overview(result.data[\"dataset3\"], linlog=True)"
   ]
  }
 ],
 "metadata": {
  "kernelspec": {
   "display_name": "pygta-staging",
   "language": "python",
   "name": "python3"
  },
  "language_info": {
   "codemirror_mode": {
    "name": "ipython",
    "version": 3
   },
   "file_extension": ".py",
   "mimetype": "text/x-python",
   "name": "python",
   "nbconvert_exporter": "python",
   "pygments_lexer": "ipython3"
  }
 },
 "nbformat": 4,
 "nbformat_minor": 5
}
