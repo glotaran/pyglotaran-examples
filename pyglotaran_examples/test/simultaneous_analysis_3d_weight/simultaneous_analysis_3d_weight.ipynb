{
 "cells": [
  {
   "cell_type": "code",
   "execution_count": null,
   "metadata": {},
   "outputs": [],
   "source": [
    "from glotaran.io import load_parameters\n",
    "\n",
    "parameters = load_parameters(\"parameters.yml\")"
   ]
  },
  {
   "cell_type": "code",
   "execution_count": null,
   "metadata": {},
   "outputs": [],
   "source": [
    "from glotaran.utils.json_schema import create_model_scheme_json_schema\n",
    "\n",
    "create_model_scheme_json_schema(\"schema.json\",parameters)"
   ]
  },
  {
   "cell_type": "code",
   "execution_count": null,
   "metadata": {},
   "outputs": [],
   "source": [
    "from glotaran.io import load_scheme\n",
    "\n",
    "scheme = load_scheme(\"scheme.yml\")"
   ]
  },
  {
   "cell_type": "code",
   "execution_count": null,
   "metadata": {},
   "outputs": [],
   "source": [
    "from glotaran.io import load_dataset\n",
    "\n",
    "scheme.load_data(\n",
    "    {\n",
    "        \"dataset1\": load_dataset(\"equareaIRFsim5.ascii\"),\n",
    "        \"dataset2\": load_dataset(\"equareaIRFsim6.ascii\"),\n",
    "        \"dataset3\": load_dataset(\"equareaIRFsim8.ascii\"),\n",
    "    }\n",
    ")"
   ]
  },
  {
   "cell_type": "code",
   "execution_count": null,
   "metadata": {},
   "outputs": [],
   "source": [
    "result=scheme.optimize(parameters=parameters,maximum_number_function_evaluations=5)"
   ]
  },
  {
   "cell_type": "code",
   "execution_count": null,
   "metadata": {},
   "outputs": [],
   "source": [
    "from pyglotaran_extras import plot_overview\n",
    "from pyglotaran_extras.compat import convert\n",
    "\n",
    "result_plot_ds1, _ = plot_overview(convert(result.data[\"dataset1\"]), linlog=True)"
   ]
  },
  {
   "cell_type": "code",
   "execution_count": null,
   "metadata": {},
   "outputs": [],
   "source": [
    "result_plot_ds2, _ = plot_overview(convert(result.data[\"dataset2\"]), linlog=True)"
   ]
  },
  {
   "cell_type": "code",
   "execution_count": null,
   "metadata": {},
   "outputs": [],
   "source": [
    "result_plot_ds3, _ = plot_overview(convert(result.data[\"dataset3\"]), linlog=True)"
   ]
  }
 ],
 "metadata": {
  "kernelspec": {
   "display_name": "pygta-staging",
   "language": "python",
   "name": "python3"
  },
  "language_info": {
   "codemirror_mode": {
    "name": "ipython",
    "version": 3
   },
   "file_extension": ".py",
   "mimetype": "text/x-python",
   "name": "python",
   "nbconvert_exporter": "python",
   "pygments_lexer": "ipython3"
  }
 },
 "nbformat": 4,
 "nbformat_minor": 2
}
