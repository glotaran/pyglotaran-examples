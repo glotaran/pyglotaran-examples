{
 "cells": [
  {
   "cell_type": "markdown",
   "metadata": {},
   "source": [
    "# Two dataset target analysis of transient absorption data\n",
    "\n",
    "equareasim3\n",
    "\n",
    "\n",
    "### Reference\n",
    "\n",
    "DOI: <TODO>"
   ]
  },
  {
   "cell_type": "code",
   "execution_count": null,
   "metadata": {},
   "outputs": [],
   "source": [
    "# imports\n",
    "import tempfile  # used to write to a temporary folder\n",
    "from pathlib import Path  # used to handle paths\n",
    "from glotaran.io import load_dataset, load_parameters, load_scheme\n",
    "from pyglotaran_extras.io import setup_case_study\n"
   ]
  },
  {
   "cell_type": "code",
   "execution_count": null,
   "metadata": {},
   "outputs": [],
   "source": [
    "# extra import for plotting\n",
    "import matplotlib.pyplot as plt\n",
    "\n",
    "from pyglotaran_extras.plotting.plot_overview import plot_overview\n",
    "from pyglotaran_extras.plotting.style import PlotStyle\n",
    "from pyglotaran_extras.compat import convert\n"
   ]
  },
  {
   "cell_type": "markdown",
   "metadata": {},
   "source": [
    "### Location of data files\n",
    "\n"
   ]
  },
  {
   "cell_type": "code",
   "execution_count": null,
   "metadata": {},
   "outputs": [],
   "source": [
    "# paths\n",
    "ga_output_path = tempfile.TemporaryDirectory().name\n",
    "\n",
    "MODEL_PATH = \"models/model-staging.yml\"\n",
    "PARAMETERS_PATH = \"models/parameters-staging.yml\"\n",
    "\n",
    "results_folder, script_folder = setup_case_study(\n",
    "    output_folder_name=\"pyglotaran_examples_results_staging\",\n",
    "    results_folder_root=str(ga_output_path),\n",
    ")\n",
    "\n",
    "data_path1 = script_folder.joinpath(\"data/data1.ascii\")\n",
    "data_path2 = script_folder.joinpath(\"data/data2.ascii\")\n",
    "model_path = script_folder.joinpath(MODEL_PATH)\n",
    "parameter_path = script_folder.joinpath(PARAMETERS_PATH)\n"
   ]
  },
  {
   "cell_type": "markdown",
   "metadata": {},
   "source": [
    "### Loading in data files\n"
   ]
  },
  {
   "cell_type": "code",
   "execution_count": null,
   "metadata": {},
   "outputs": [],
   "source": [
    "# load the data\n",
    "experiment_data = {\"dataset1\": load_dataset(data_path1), \"dataset2\": load_dataset(data_path2)}\n",
    "# load the (model) scheme (library)\n",
    "scheme = load_scheme(model_path, format_name=\"yml\")\n",
    "# load the parameters\n",
    "parameters = load_parameters(parameter_path)\n",
    "# attach the data to the scheme\n",
    "scheme.load_data(experiment_data)\n",
    "\n",
    "# print(scheme.validate(parameters=parameters))\n"
   ]
  },
  {
   "cell_type": "markdown",
   "metadata": {},
   "source": [
    "### Optimizing the global fit\n"
   ]
  },
  {
   "cell_type": "code",
   "execution_count": null,
   "metadata": {},
   "outputs": [],
   "source": [
    "# Run the optimizer\n",
    "result = scheme.optimize(parameters, maximum_number_function_evaluations=116)\n",
    "\n",
    "print(result)\n"
   ]
  },
  {
   "cell_type": "markdown",
   "metadata": {},
   "source": [
    "### Saving results to file\n"
   ]
  },
  {
   "cell_type": "code",
   "execution_count": null,
   "metadata": {},
   "outputs": [],
   "source": [
    "# Save the results\n",
    "result.save(results_folder, allow_overwrite=True)\n",
    "\n"
   ]
  },
  {
   "cell_type": "markdown",
   "metadata": {},
   "source": [
    "### Inspection of results\n"
   ]
  },
  {
   "cell_type": "code",
   "execution_count": null,
   "metadata": {},
   "outputs": [],
   "source": [
    "# Inspect the results\n",
    "res1 = convert(result.data[\"dataset1\"])\n",
    "res2 = convert(result.data[\"dataset2\"])\n",
    "\n",
    "print(res1)\n",
    "print(res2)\n",
    "\n"
   ]
  },
  {
   "cell_type": "markdown",
   "metadata": {},
   "source": [
    "### Plotting of results\n",
    "\n",
    "This requires pyglotaran-extras\n"
   ]
  },
  {
   "cell_type": "code",
   "execution_count": null,
   "metadata": {},
   "outputs": [],
   "source": [
    "# Plot the results\n",
    "\n",
    "# %% Set subsequent plots to the glotaran style\n",
    "plot_style = PlotStyle()\n",
    "plt.rc(\"axes\", prop_cycle=plot_style.cycler)\n",
    "\n",
    "# %%\n",
    "fig1, _ = plot_overview(res1, linlog=False)\n",
    "fig2, _ = plot_overview(res2, linlog=False)\n",
    "\n",
    "# %%\n",
    "figure_output_path1 = results_folder / f\"plot_overview_{results_folder.name}_1.pdf\"\n",
    "figure_output_path2 = results_folder / f\"plot_overview_{results_folder.name}_2.pdf\"\n",
    "fig1.savefig(str(figure_output_path1), bbox_inches=\"tight\")\n",
    "fig2.savefig(str(figure_output_path2), bbox_inches=\"tight\")\n",
    "print(results_folder)\n"
   ]
  }
 ],
 "metadata": {
  "kernelspec": {
   "display_name": "pygta_staging",
   "language": "python",
   "name": "python3"
  },
  "language_info": {
   "codemirror_mode": {
    "name": "ipython",
    "version": 3
   },
   "file_extension": ".py",
   "mimetype": "text/x-python",
   "name": "python",
   "nbconvert_exporter": "python",
   "pygments_lexer": "ipython3",
   "version": "3.10.13"
  }
 },
 "nbformat": 4,
 "nbformat_minor": 2
}
