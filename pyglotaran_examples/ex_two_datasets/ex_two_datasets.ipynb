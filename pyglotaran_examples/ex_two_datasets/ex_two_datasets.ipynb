{
 "cells": [
  {
   "cell_type": "markdown",
   "id": "0",
   "metadata": {
    "tags": []
   },
   "source": [
    "# Two dataset target analysis of transient absorption data\n",
    "\n",
    "equareasim3\n",
    "\n",
    "\n",
    "### Reference\n",
    "\n",
    "DOI: <TODO>"
   ]
  },
  {
   "cell_type": "code",
   "execution_count": null,
   "id": "1",
   "metadata": {
    "tags": []
   },
   "outputs": [],
   "source": [
    "# imports\n",
    "from pyglotaran_extras.io import setup_case_study\n",
    "\n",
    "from glotaran.io import load_dataset, load_parameters, load_scheme"
   ]
  },
  {
   "cell_type": "code",
   "execution_count": null,
   "id": "2",
   "metadata": {
    "tags": []
   },
   "outputs": [],
   "source": [
    "# extra import for plotting\n",
    "import matplotlib.pyplot as plt\n",
    "from pyglotaran_extras.compat import convert\n",
    "from pyglotaran_extras.plotting.plot_overview import plot_overview\n",
    "from pyglotaran_extras.plotting.style import PlotStyle"
   ]
  },
  {
   "cell_type": "markdown",
   "id": "3",
   "metadata": {
    "tags": []
   },
   "source": [
    "### Location of data files\n",
    "\n"
   ]
  },
  {
   "cell_type": "code",
   "execution_count": null,
   "id": "4",
   "metadata": {
    "tags": []
   },
   "outputs": [],
   "source": [
    "MODEL_PATH = \"models/model-staging.yml\"\n",
    "PARAMETERS_PATH = \"models/parameters-staging.yml\"\n",
    "\n",
    "results_folder, script_folder = setup_case_study(\n",
    "    output_folder_name=\"pyglotaran_examples_results_staging\",\n",
    ")\n",
    "\n",
    "data_path1 = script_folder.joinpath(\"data/data1.ascii\")\n",
    "data_path2 = script_folder.joinpath(\"data/data2.ascii\")\n",
    "model_path = script_folder.joinpath(MODEL_PATH)\n",
    "parameter_path = script_folder.joinpath(PARAMETERS_PATH)"
   ]
  },
  {
   "cell_type": "markdown",
   "id": "5",
   "metadata": {
    "tags": []
   },
   "source": [
    "### Create scheme with parameter autocomplete"
   ]
  },
  {
   "cell_type": "code",
   "execution_count": null,
   "id": "6",
   "metadata": {
    "tags": []
   },
   "outputs": [],
   "source": [
    "from glotaran.utils.json_schema import create_model_scheme_json_schema\n",
    "\n",
    "create_model_scheme_json_schema(\"models/schema.json\", PARAMETERS_PATH)"
   ]
  },
  {
   "cell_type": "markdown",
   "id": "7",
   "metadata": {
    "tags": []
   },
   "source": [
    "### Loading in data files\n"
   ]
  },
  {
   "cell_type": "code",
   "execution_count": null,
   "id": "8",
   "metadata": {
    "tags": []
   },
   "outputs": [],
   "source": [
    "# load the data\n",
    "experiment_data = {\"dataset1\": load_dataset(data_path1), \"dataset2\": load_dataset(data_path2)}\n",
    "# load the (model) scheme (library)\n",
    "scheme = load_scheme(model_path, format_name=\"yml\")\n",
    "# load the parameters\n",
    "parameters = load_parameters(parameter_path)\n",
    "# attach the data to the scheme\n",
    "scheme.load_data(experiment_data)\n",
    "\n",
    "# print(scheme.validate(parameters=parameters))"
   ]
  },
  {
   "cell_type": "markdown",
   "id": "9",
   "metadata": {
    "tags": []
   },
   "source": [
    "### Optimizing the global fit\n"
   ]
  },
  {
   "cell_type": "code",
   "execution_count": null,
   "id": "10",
   "metadata": {
    "tags": []
   },
   "outputs": [],
   "source": [
    "# Run the optimizer\n",
    "result = scheme.optimize(parameters, maximum_number_function_evaluations=116)\n",
    "\n",
    "print(result)"
   ]
  },
  {
   "cell_type": "markdown",
   "id": "11",
   "metadata": {
    "tags": []
   },
   "source": [
    "### Saving results to file\n"
   ]
  },
  {
   "cell_type": "code",
   "execution_count": null,
   "id": "12",
   "metadata": {
    "tags": []
   },
   "outputs": [],
   "source": [
    "# Save the results\n",
    "result.save(results_folder, allow_overwrite=True)"
   ]
  },
  {
   "cell_type": "markdown",
   "id": "13",
   "metadata": {
    "tags": []
   },
   "source": [
    "### Inspection of results\n"
   ]
  },
  {
   "cell_type": "code",
   "execution_count": null,
   "id": "14",
   "metadata": {
    "tags": []
   },
   "outputs": [],
   "source": [
    "# Inspect the results\n",
    "res1 = convert(result.data[\"dataset1\"])\n",
    "res2 = convert(result.data[\"dataset2\"])\n",
    "\n",
    "print(res1)\n",
    "print(res2)"
   ]
  },
  {
   "cell_type": "markdown",
   "id": "15",
   "metadata": {
    "tags": []
   },
   "source": [
    "### Plotting of results\n",
    "\n",
    "This requires pyglotaran-extras\n"
   ]
  },
  {
   "cell_type": "code",
   "execution_count": null,
   "id": "16",
   "metadata": {
    "tags": []
   },
   "outputs": [],
   "source": [
    "# Plot the results\n",
    "\n",
    "# %% Set subsequent plots to the glotaran style\n",
    "plot_style = PlotStyle()\n",
    "plt.rc(\"axes\", prop_cycle=plot_style.cycler)\n",
    "\n",
    "# %%\n",
    "fig1, _ = plot_overview(res1, linlog=True)\n",
    "fig2, _ = plot_overview(res2, linlog=True)\n",
    "\n",
    "# %%\n",
    "figure_output_path1 = results_folder / f\"plot_overview_{results_folder.name}_1.pdf\"\n",
    "figure_output_path2 = results_folder / f\"plot_overview_{results_folder.name}_2.pdf\"\n",
    "fig1.savefig(str(figure_output_path1), bbox_inches=\"tight\")\n",
    "fig2.savefig(str(figure_output_path2), bbox_inches=\"tight\")\n",
    "print(results_folder)"
   ]
  },
  {
   "cell_type": "code",
   "execution_count": null,
   "id": "17",
   "metadata": {
    "tags": []
   },
   "outputs": [],
   "source": [
    "result.data[\"dataset1\"]"
   ]
  },
  {
   "cell_type": "code",
   "execution_count": null,
   "id": "18",
   "metadata": {
    "tags": []
   },
   "outputs": [],
   "source": [
    "data_array1 = result.data[\"dataset1\"].species_associated_estimation\n",
    "data_array2 = result.data[\"dataset2\"].species_associated_estimation\n",
    "\n",
    "import matplotlib.pyplot as plt\n",
    "\n",
    "plt.plot(data_array1.coords[\"spectral\"], data_array1.to_numpy() - data_array2.to_numpy())\n",
    "plt.xlabel(\"Spectral\")\n",
    "plt.ylabel(\"Value\")\n",
    "plt.title(\"Delta between species_associated_estimation\")\n",
    "plt.show()"
   ]
  },
  {
   "cell_type": "code",
   "execution_count": null,
   "id": "19",
   "metadata": {
    "tags": []
   },
   "outputs": [],
   "source": [
    "from glotaran.io import save_dataset\n",
    "\n",
    "for data_path in results_folder.rglob(\"*.nc\"):\n",
    "    save_dataset(\n",
    "        convert(load_dataset(data_path)), results_folder / data_path.name, allow_overwrite=True\n",
    "    )\n",
    "    data_path.unlink()"
   ]
  }
 ],
 "metadata": {
  "kernelspec": {
   "display_name": "pygta_staging",
   "language": "python",
   "name": "python3"
  },
  "language_info": {
   "codemirror_mode": {
    "name": "ipython",
    "version": 3
   },
   "file_extension": ".py",
   "mimetype": "text/x-python",
   "name": "python",
   "nbconvert_exporter": "python",
   "pygments_lexer": "ipython3"
  }
 },
 "nbformat": 4,
 "nbformat_minor": 5
}
