{
 "cells": [
  {
   "cell_type": "markdown",
   "id": "8de9eb7e",
   "metadata": {},
   "source": [
    "### Load data"
   ]
  },
  {
   "cell_type": "code",
   "execution_count": null,
   "id": "3",
   "metadata": {
    "execution": {
     "iopub.execute_input": "2024-06-02T20:23:51.195146Z",
     "iopub.status.busy": "2024-06-02T20:23:51.195146Z",
     "iopub.status.idle": "2024-06-02T20:23:51.237267Z",
     "shell.execute_reply": "2024-06-02T20:23:51.236763Z"
    },
    "papermill": {
     "duration": 0.045627,
     "end_time": "2024-06-02T20:23:51.238773",
     "exception": false,
     "start_time": "2024-06-02T20:23:51.193146",
     "status": "completed"
    },
    "tags": []
   },
   "outputs": [],
   "source": [
    "from glotaran.io import load_dataset\n",
    "\n",
    "dataset = load_dataset(\"data/data.ascii\")"
   ]
  },
  {
   "cell_type": "markdown",
   "id": "03bc7971",
   "metadata": {},
   "source": [
    "### Analysis without equal area penalties\n",
    "\n",
    "Example of a two step optimization\n",
    "- First do a (partial) optimization with first scheme\n",
    "- Extract the optimized schemed and adjust its settings\n",
    "- Optimize again with the second scheme"
   ]
  },
  {
   "cell_type": "code",
   "execution_count": null,
   "id": "4",
   "metadata": {
    "execution": {
     "iopub.execute_input": "2024-06-02T20:23:51.243773Z",
     "iopub.status.busy": "2024-06-02T20:23:51.242774Z",
     "iopub.status.idle": "2024-06-02T20:23:51.721340Z",
     "shell.execute_reply": "2024-06-02T20:23:51.720338Z"
    },
    "papermill": {
     "duration": 0.481567,
     "end_time": "2024-06-02T20:23:51.722340",
     "exception": false,
     "start_time": "2024-06-02T20:23:51.240773",
     "status": "completed"
    },
    "tags": []
   },
   "outputs": [],
   "source": [
    "from glotaran.io import load_model\n",
    "from glotaran.io import load_parameters\n",
    "from glotaran.optimization.optimize import optimize\n",
    "from glotaran.project.scheme import Scheme\n",
    "\n",
    "model = load_model(\"models/model.yml\")\n",
    "parameters = load_parameters(\"models/parameters.yml\")\n",
    "\n",
    "scheme_no_penalties = Scheme(\n",
    "    model=model,\n",
    "    parameters=parameters,\n",
    "    data={\"dataset1\": dataset},\n",
    "    optimization_method=\"TrustRegionReflection\",\n",
    "    maximum_number_function_evaluations=5,\n",
    ")\n",
    "\n",
    "# optimization with first scheme\n",
    "result = optimize(scheme_no_penalties)\n",
    "# optimization with second scheme,\n",
    "# where we change the maximum number of function evaluations\n",
    "scheme2=result.get_scheme()\n",
    "scheme2.maximum_number_function_evaluations=2\n",
    "result_no_penalties = optimize(scheme2)"
   ]
  },
  {
   "cell_type": "markdown",
   "id": "ffbe53ea",
   "metadata": {},
   "source": [
    "#### Saving results and creating plots"
   ]
  },
  {
   "cell_type": "code",
   "execution_count": null,
   "id": "5",
   "metadata": {
    "execution": {
     "iopub.execute_input": "2024-06-02T20:23:51.727460Z",
     "iopub.status.busy": "2024-06-02T20:23:51.726340Z",
     "iopub.status.idle": "2024-06-02T20:23:52.280522Z",
     "shell.execute_reply": "2024-06-02T20:23:52.279521Z"
    },
    "papermill": {
     "duration": 0.557183,
     "end_time": "2024-06-02T20:23:52.281522",
     "exception": false,
     "start_time": "2024-06-02T20:23:51.724339",
     "status": "completed"
    },
    "tags": []
   },
   "outputs": [],
   "source": [
    "from pyglotaran_extras.io import setup_case_study\n",
    "from glotaran.io import save_result\n",
    "base_results_folder, _ = setup_case_study(output_folder_name=\"pyglotaran_examples_results\")\n",
    "results_folder = base_results_folder / \"no_penalties\"\n",
    "save_result(result_no_penalties, results_folder / \"result.yml\", allow_overwrite=True)"
   ]
  },
  {
   "cell_type": "code",
   "execution_count": null,
   "id": "6",
   "metadata": {
    "execution": {
     "iopub.execute_input": "2024-06-02T20:23:52.285522Z",
     "iopub.status.busy": "2024-06-02T20:23:52.285522Z",
     "iopub.status.idle": "2024-06-02T20:23:54.405344Z",
     "shell.execute_reply": "2024-06-02T20:23:54.405344Z"
    },
    "papermill": {
     "duration": 2.124329,
     "end_time": "2024-06-02T20:23:54.406850",
     "exception": false,
     "start_time": "2024-06-02T20:23:52.282521",
     "status": "completed"
    },
    "tags": []
   },
   "outputs": [],
   "source": [
    "from pyglotaran_extras.plotting.plot_overview import plot_simple_overview\n",
    "\n",
    "plot_simple_overview(result_no_penalties.data[\"dataset1\"]);"
   ]
  },
  {
   "cell_type": "markdown",
   "id": "e5ef63c3",
   "metadata": {},
   "source": [
    "### Analysis using equal area penalties\n",
    "\n",
    "This time we use equal parameter in our model, allowing us to estimate the relative amplitude between the two species."
   ]
  },
  {
   "cell_type": "code",
   "execution_count": null,
   "id": "c4bcd54e",
   "metadata": {},
   "outputs": [],
   "source": [
    "from glotaran.io import load_model\n",
    "from glotaran.io import load_parameters\n",
    "from glotaran.optimization.optimize import optimize\n",
    "from glotaran.project.scheme import Scheme\n",
    "\n",
    "parameters = load_parameters(\"models/parameters_equal_area_penalties.yml\")\n",
    "model = load_model(\"models/model_equal_area_penalties.yml\")\n",
    "\n",
    "scheme_equal_area = Scheme(\n",
    "    model=model,\n",
    "    parameters=parameters,\n",
    "    data={\"dataset1\": dataset},\n",
    "    optimization_method=\"TrustRegionReflection\",\n",
    "    maximum_number_function_evaluations=7,\n",
    ")\n",
    "\n",
    "result_equal_area = optimize(scheme_equal_area)\n"
   ]
  },
  {
   "cell_type": "markdown",
   "id": "75d373cd",
   "metadata": {},
   "source": [
    "#### Plotting"
   ]
  },
  {
   "cell_type": "code",
   "execution_count": null,
   "id": "e1c21902",
   "metadata": {},
   "outputs": [],
   "source": [
    "from pyglotaran_extras.plotting.plot_overview import plot_simple_overview\n",
    "\n",
    "plot_simple_overview(result_equal_area.data[\"dataset1\"]);"
   ]
  },
  {
   "cell_type": "code",
   "execution_count": null,
   "id": "e38081ef",
   "metadata": {},
   "outputs": [],
   "source": [
    "from pyglotaran_extras.io import setup_case_study\n",
    "from glotaran.io import save_result\n",
    "base_results_folder, _ = setup_case_study(output_folder_name=\"pyglotaran_examples_results\")\n",
    "results_folder = base_results_folder / \"with_penalties_first_run\"\n",
    "save_result(result_equal_area, results_folder / \"result.yml\", allow_overwrite=True)"
   ]
  },
  {
   "cell_type": "code",
   "execution_count": null,
   "id": "7",
   "metadata": {
    "execution": {
     "iopub.execute_input": "2024-06-02T20:23:54.421325Z",
     "iopub.status.busy": "2024-06-02T20:23:54.421325Z",
     "iopub.status.idle": "2024-06-02T20:23:54.561079Z",
     "shell.execute_reply": "2024-06-02T20:23:54.561079Z"
    },
    "papermill": {
     "duration": 0.14926,
     "end_time": "2024-06-02T20:23:54.563080",
     "exception": false,
     "start_time": "2024-06-02T20:23:54.413820",
     "status": "completed"
    },
    "tags": []
   },
   "outputs": [],
   "source": [
    "from glotaran.io import save_dataset\n",
    "\n",
    "for data_path in results_folder.rglob(\"*.nc\"):\n",
    "    save_dataset(\n",
    "        load_dataset(data_path), results_folder / data_path.name, allow_overwrite=True\n",
    "    )\n",
    "    data_path.unlink()"
   ]
  }
 ],
 "metadata": {
  "kernelspec": {
   "display_name": "pygta-staging",
   "language": "python",
   "name": "python3"
  },
  "language_info": {
   "codemirror_mode": {
    "name": "ipython",
    "version": 3
   },
   "file_extension": ".py",
   "mimetype": "text/x-python",
   "name": "python",
   "nbconvert_exporter": "python",
   "pygments_lexer": "ipython3",
   "version": "3.10.14"
  },
  "papermill": {
   "default_parameters": {},
   "duration": 5.386173,
   "end_time": "2024-06-02T20:23:54.921633",
   "environment_variables": {},
   "exception": null,
   "input_path": "C:\\Users\\jsnel\\src\\pyglotaran-staging\\pyglotaran-examples\\pyglotaran_examples\\ex_spectral_constraints\\ex_spectral_constraints.ipynb",
   "output_path": "C:\\Users\\jsnel\\src\\pyglotaran-staging\\pyglotaran-examples\\pyglotaran_examples\\ex_spectral_constraints\\ex_spectral_constraints.ipynb",
   "parameters": {},
   "start_time": "2024-06-02T20:23:49.535460",
   "version": "2.6.0"
  }
 },
 "nbformat": 4,
 "nbformat_minor": 5
}
