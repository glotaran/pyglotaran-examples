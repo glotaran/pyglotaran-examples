{
 "cells": [
  {
   "cell_type": "code",
   "execution_count": null,
   "id": "0",
   "metadata": {
    "tags": []
   },
   "outputs": [],
   "source": [
    "from glotaran.io import load_parameters\n",
    "\n",
    "parameters = load_parameters(\"models/parameters_equal_area_penalties.yml\")"
   ]
  },
  {
   "cell_type": "code",
   "execution_count": null,
   "id": "1",
   "metadata": {
    "tags": []
   },
   "outputs": [],
   "source": [
    "from glotaran.utils.json_schema import create_model_scheme_json_schema\n",
    "\n",
    "create_model_scheme_json_schema(\"models/schema.json\", parameters)"
   ]
  },
  {
   "cell_type": "markdown",
   "id": "2",
   "metadata": {},
   "source": [
    "### Analysis without equal area penalties\n",
    "\n",
    "Example of a two step optimization\n",
    "- First do a (partial) optimization with first scheme\n",
    "- Extract the optimized schemed and adjust its settings\n",
    "- Optimize again with the second scheme"
   ]
  },
  {
   "cell_type": "code",
   "execution_count": null,
   "id": "3",
   "metadata": {
    "tags": []
   },
   "outputs": [],
   "source": [
    "from glotaran.io import load_scheme\n",
    "\n",
    "scheme = load_scheme(\"models/scheme.yml\")"
   ]
  },
  {
   "cell_type": "code",
   "execution_count": null,
   "id": "4",
   "metadata": {
    "tags": []
   },
   "outputs": [],
   "source": [
    "from glotaran.io import load_dataset\n",
    "\n",
    "scheme.load_data({\"dataset1\": load_dataset(\"data/data.ascii\")})"
   ]
  },
  {
   "cell_type": "code",
   "execution_count": null,
   "id": "5",
   "metadata": {
    "tags": []
   },
   "outputs": [],
   "source": [
    "result_no_penalties_first_run = scheme.optimize(\n",
    "    parameters=parameters, maximum_number_function_evaluations=7\n",
    ")"
   ]
  },
  {
   "cell_type": "markdown",
   "id": "6",
   "metadata": {},
   "source": [
    "#### Saving results and creating plots"
   ]
  },
  {
   "cell_type": "code",
   "execution_count": null,
   "id": "7",
   "metadata": {
    "tags": []
   },
   "outputs": [],
   "source": [
    "from pyglotaran_extras.io import setup_case_study\n",
    "\n",
    "results_folder, _ = setup_case_study(output_folder_name=\"pyglotaran_examples_results_staging\")\n",
    "result_no_penalties_first_run.save(results_folder / \"no_penalties_first_run\", allow_overwrite=True)"
   ]
  },
  {
   "cell_type": "code",
   "execution_count": null,
   "id": "8",
   "metadata": {},
   "outputs": [],
   "source": [
    "result_no_penalties = scheme.optimize(\n",
    "    parameters=result_no_penalties_first_run.parameters_optimized\n",
    ")\n",
    "result_no_penalties.save(results_folder / \"no_penalties\", allow_overwrite=True)"
   ]
  },
  {
   "cell_type": "code",
   "execution_count": null,
   "id": "9",
   "metadata": {
    "tags": []
   },
   "outputs": [],
   "source": [
    "from pyglotaran_extras import plot_overview\n",
    "from pyglotaran_extras.compat import convert\n",
    "\n",
    "plot_overview(convert(result_no_penalties_first_run.data[\"dataset1\"]))\n",
    "plot_overview(convert(result_no_penalties.data[\"dataset1\"]));"
   ]
  },
  {
   "cell_type": "markdown",
   "id": "10",
   "metadata": {},
   "source": [
    "### Analysis using equal area penalties\n",
    "\n",
    "This time we use equal parameter in our model, allowing us to estimate the relative amplitude between the two species."
   ]
  },
  {
   "cell_type": "code",
   "execution_count": null,
   "id": "11",
   "metadata": {},
   "outputs": [],
   "source": [
    "parameters_equal_area = load_parameters(\"models/parameters_equal_area_penalties.yml\")\n",
    "\n",
    "scheme_equal_area = load_scheme(\"models/scheme_equal_area_penalties.yml\")\n",
    "scheme_equal_area.load_data({\"dataset1\": load_dataset(\"data/data.ascii\")})\n",
    "\n",
    "result_equal_area_first_run = scheme_equal_area.optimize(parameters=parameters_equal_area)"
   ]
  },
  {
   "cell_type": "code",
   "execution_count": null,
   "id": "12",
   "metadata": {},
   "outputs": [],
   "source": [
    "result_equal_area_first_run.save(results_folder / \"with_penalties_first_run\", allow_overwrite=True)"
   ]
  },
  {
   "cell_type": "code",
   "execution_count": null,
   "id": "13",
   "metadata": {},
   "outputs": [],
   "source": [
    "result_equal_area = scheme_equal_area.optimize(\n",
    "    parameters=result_equal_area_first_run.parameters_optimized\n",
    ")\n",
    "result_equal_area.save(results_folder / \"with_penalties\", allow_overwrite=True)"
   ]
  },
  {
   "cell_type": "code",
   "execution_count": null,
   "id": "14",
   "metadata": {},
   "outputs": [],
   "source": [
    "plot_overview(convert(result_equal_area_first_run.data[\"dataset1\"]))\n",
    "plot_overview(convert(result_equal_area.data[\"dataset1\"]));"
   ]
  },
  {
   "cell_type": "code",
   "execution_count": null,
   "id": "15",
   "metadata": {
    "tags": []
   },
   "outputs": [],
   "source": [
    "from glotaran.io import save_dataset\n",
    "\n",
    "for data_path in results_folder.rglob(\"*.nc\"):\n",
    "    save_dataset(\n",
    "        convert(load_dataset(data_path)), results_folder / data_path.name, allow_overwrite=True\n",
    "    )"
   ]
  }
 ],
 "metadata": {
  "kernelspec": {
   "display_name": "pygta-staging",
   "language": "python",
   "name": "python3"
  },
  "language_info": {
   "codemirror_mode": {
    "name": "ipython",
    "version": 3
   },
   "file_extension": ".py",
   "mimetype": "text/x-python",
   "name": "python",
   "nbconvert_exporter": "python",
   "pygments_lexer": "ipython3"
  }
 },
 "nbformat": 4,
 "nbformat_minor": 5
}
