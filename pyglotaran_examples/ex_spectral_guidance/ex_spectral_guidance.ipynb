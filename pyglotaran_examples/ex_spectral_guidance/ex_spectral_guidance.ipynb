{
 "cells": [
  {
   "cell_type": "markdown",
   "id": "0",
   "metadata": {},
   "source": [
    "### Load data"
   ]
  },
  {
   "cell_type": "code",
   "execution_count": null,
   "id": "1",
   "metadata": {},
   "outputs": [],
   "source": [
    "from glotaran.io import load_dataset\n",
    "\n",
    "experiment_data = {\n",
    "    \"dataset1\": load_dataset(\"data/Npq2_220219_800target3fasea.ascii\"),\n",
    "    \"dataset2\": load_dataset(\"data/trNpq2_220219_800target3fase10SAS5.ascii\"),\n",
    "}"
   ]
  },
  {
   "cell_type": "markdown",
   "id": "2",
   "metadata": {},
   "source": [
    "### Load model and parameters, define scheme"
   ]
  },
  {
   "cell_type": "code",
   "execution_count": null,
   "id": "3",
   "metadata": {},
   "outputs": [],
   "source": [
    "from glotaran.io import load_model, load_parameters\n",
    "from glotaran.project.scheme import Scheme\n",
    "\n",
    "model = load_model(\"models/model_guidance.yml\")\n",
    "parameters = load_parameters(\"models/parameters_guidance.yml\")\n",
    "\n",
    "scheme = Scheme(\n",
    "    model,\n",
    "    parameters,\n",
    "    experiment_data,\n",
    "    # optimization_method=\"Levenberg-Marquardt\", # LM needs 60 nfev!\n",
    "    maximum_number_function_evaluations=23,  # TRF needs nfev=21-23\n",
    ")"
   ]
  },
  {
   "cell_type": "code",
   "execution_count": null,
   "id": "4",
   "metadata": {},
   "outputs": [],
   "source": [
    "from glotaran.optimization.optimize import optimize\n",
    "\n",
    "result = optimize(scheme)"
   ]
  },
  {
   "cell_type": "code",
   "execution_count": null,
   "id": "5",
   "metadata": {},
   "outputs": [],
   "source": [
    "from pyglotaran_extras.io import setup_case_study\n",
    "\n",
    "from glotaran.io import save_result\n",
    "\n",
    "results_folder, _ = setup_case_study(output_folder_name=\"pyglotaran_examples_results\")\n",
    "save_result(result, results_folder / \"result.yml\", allow_overwrite=True);"
   ]
  },
  {
   "cell_type": "markdown",
   "id": "6",
   "metadata": {},
   "source": [
    "### Plotting"
   ]
  },
  {
   "cell_type": "code",
   "execution_count": null,
   "id": "7",
   "metadata": {},
   "outputs": [],
   "source": [
    "from pyglotaran_extras import plot_overview\n",
    "\n",
    "result_plot, _ = plot_overview(result.data[\"dataset1\"], linlog=True, show_data=True)"
   ]
  },
  {
   "cell_type": "markdown",
   "id": "8",
   "metadata": {},
   "source": [
    "#### Plot Guidance Spectra Fit\n",
    "Fit quality and residual"
   ]
  },
  {
   "cell_type": "code",
   "execution_count": null,
   "id": "9",
   "metadata": {},
   "outputs": [],
   "source": [
    "guide, _ = plot_overview(result.data[\"dataset2\"], linlog=True, show_data=True)"
   ]
  }
 ],
 "metadata": {
  "kernelspec": {
   "display_name": "pygta-staging",
   "language": "python",
   "name": "python3"
  },
  "language_info": {
   "codemirror_mode": {
    "name": "ipython",
    "version": 3
   },
   "file_extension": ".py",
   "mimetype": "text/x-python",
   "name": "python",
   "nbconvert_exporter": "python",
   "pygments_lexer": "ipython3"
  }
 },
 "nbformat": 4,
 "nbformat_minor": 5
}
