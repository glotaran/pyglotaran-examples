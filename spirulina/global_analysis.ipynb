{
 "cells": [
  {
   "cell_type": "code",
   "execution_count": null,
   "id": "c1fbc860-0761-4a84-b7db-dea30d19a1b0",
   "metadata": {},
   "outputs": [],
   "source": [
    "%matplotlib inline"
   ]
  },
  {
   "cell_type": "markdown",
   "id": "9223036c-c866-43df-be0f-e6d82b115b94",
   "metadata": {},
   "source": [
    "# Spirulina analysis"
   ]
  },
  {
   "cell_type": "markdown",
   "id": "7c68eb9b-fb88-42e6-acb6-6bd5f7abe999",
   "metadata": {},
   "source": [
    "## Setup the case study"
   ]
  },
  {
   "cell_type": "code",
   "execution_count": null,
   "id": "f1c92902-5d43-499b-b3d4-911dacc1ade2",
   "metadata": {},
   "outputs": [],
   "source": [
    "from pyglotaran_extras import setup_case_study"
   ]
  },
  {
   "cell_type": "code",
   "execution_count": null,
   "id": "67d4e1fb-cf09-4876-a63b-e2ba449d84d0",
   "metadata": {},
   "outputs": [],
   "source": [
    "results_folder, script_folder = setup_case_study(\n",
    "    results_folder_root=\".\", output_folder_name=\"results\"\n",
    ")"
   ]
  },
  {
   "cell_type": "markdown",
   "id": "e9558640-8d28-4f33-888d-1c109055d740",
   "metadata": {},
   "source": [
    "## Inspect data"
   ]
  },
  {
   "cell_type": "code",
   "execution_count": null,
   "id": "1a780cef-9416-48ed-8fe8-c206b5da2a80",
   "metadata": {},
   "outputs": [],
   "source": [
    "from glotaran.io import load_dataset\n",
    "from pyglotaran_extras import plot_data_overview\n",
    "\n",
    "spirolina_data = load_dataset(script_folder / \"data/data.ascii\")\n",
    "\n",
    "fig_data, axes_data = plot_data_overview(spirolina_data, figsize=(15, 10))\n",
    "axes_data[1].legend_.remove()\n",
    "axes_data[3].legend_.remove()"
   ]
  },
  {
   "cell_type": "markdown",
   "id": "e16ed68d-5090-447a-a87d-1aaba25974d4",
   "metadata": {},
   "source": [
    "## Basic analysis\n",
    "As as first assumption we try a sequential model."
   ]
  },
  {
   "cell_type": "markdown",
   "id": "cbd02f9b-3831-44e6-b5bb-2ce5cd1f9763",
   "metadata": {},
   "source": [
    "![Spirulina sequential scheme](../assets/spirulina_sequential.svg)"
   ]
  },
  {
   "cell_type": "markdown",
   "id": "ead22585-a240-43d2-a853-b4f982fa6731",
   "metadata": {},
   "source": [
    "This translates to the reduced K-matrix.\n",
    "\n",
    "$$\n",
    "\\mathbf{K}^{Reduced} = \\begin{bmatrix} \n",
    "                          &                          &                         &                     \\\\ \n",
    "k_{\\text{bulk_to_red1}}   &                          &                         &                     \\\\\n",
    "                          &  k_{\\text{red1_to_red2}} &                         &                     \\\\\n",
    "                          &                          & k_{\\text{red2_to_free}} & k_{\\text{free_out}} \\\\\n",
    "\\end{bmatrix}\n",
    "$$\n"
   ]
  },
  {
   "cell_type": "markdown",
   "id": "694089af-2f40-4646-9f2e-ad566fdedd8b",
   "metadata": {},
   "source": [
    "### Load model and parameter file"
   ]
  },
  {
   "cell_type": "code",
   "execution_count": null,
   "id": "9b4fb7aa-70d8-4eee-b865-e539126302a7",
   "metadata": {},
   "outputs": [],
   "source": [
    "from glotaran.io import load_model\n",
    "from glotaran.io import load_parameters\n",
    "\n",
    "model = load_model(script_folder / \"models/model.yaml\")\n",
    "parameters = load_parameters(script_folder / \"models/parameters.yaml\")"
   ]
  },
  {
   "cell_type": "markdown",
   "id": "42c246c5-df96-4b8a-ad4d-4213da875207",
   "metadata": {},
   "source": [
    "### Combine Model, Parameters and Data in a Scheme"
   ]
  },
  {
   "cell_type": "code",
   "execution_count": null,
   "id": "120e48f3-5594-4816-a450-22080853d9eb",
   "metadata": {},
   "outputs": [],
   "source": [
    "from glotaran.project.scheme import Scheme\n",
    "\n",
    "scheme = Scheme(\n",
    "    model,\n",
    "    parameters,\n",
    "    {\"spirolina_data\": spirolina_data},\n",
    ")\n",
    "scheme.validate()"
   ]
  },
  {
   "cell_type": "markdown",
   "id": "10338f9c-a615-453e-94f7-51b6fb2af0ab",
   "metadata": {},
   "source": [
    "### Optimize the Scheme"
   ]
  },
  {
   "cell_type": "code",
   "execution_count": null,
   "id": "aa9bde60-8ae7-4212-ae12-48c009c4a58a",
   "metadata": {},
   "outputs": [],
   "source": [
    "from glotaran.analysis.optimize import optimize\n",
    "\n",
    "result = optimize(scheme)"
   ]
  },
  {
   "cell_type": "markdown",
   "id": "52a4a668-6aaf-4c79-8858-f5bc1c686264",
   "metadata": {},
   "source": [
    "## Visualize and evaluate results"
   ]
  },
  {
   "cell_type": "markdown",
   "id": "64b0fb0f-2c2b-43ec-aa79-e17930e1f641",
   "metadata": {},
   "source": [
    "### Fit quality"
   ]
  },
  {
   "cell_type": "code",
   "execution_count": null,
   "id": "bd5c5a6d-822f-447c-b591-c56093838aed",
   "metadata": {},
   "outputs": [],
   "source": [
    "from pyglotaran_extras import plot_fitted_traces\n",
    "from pyglotaran_extras import select_plot_wavelengths\n",
    "\n",
    "wavelengths = select_plot_wavelengths(result)\n",
    "fig_traces, axes_traces = plot_fitted_traces(result, wavelengths)"
   ]
  },
  {
   "cell_type": "markdown",
   "id": "7925d11f-ba65-43f3-96fe-43dc5c444662",
   "metadata": {},
   "source": [
    "### Physical meaning"
   ]
  },
  {
   "cell_type": "code",
   "execution_count": null,
   "id": "dd99a8e8-2cdb-4c9c-b6b9-36ab22f1b768",
   "metadata": {},
   "outputs": [],
   "source": [
    "from pyglotaran_extras import plot_overview\n",
    "\n",
    "fig_ov, axes_ov = plot_overview(result, figure_only=False, linlog=False)"
   ]
  },
  {
   "cell_type": "markdown",
   "id": "5a9e68ca-aa8f-4a6a-ae83-18c678f47655",
   "metadata": {},
   "source": [
    "## Save the results"
   ]
  },
  {
   "cell_type": "code",
   "execution_count": null,
   "id": "895af8a1-fdc5-4379-9d44-4aebb643d0bc",
   "metadata": {},
   "outputs": [],
   "source": [
    "from glotaran.io import save_result\n",
    "\n",
    "save_result(result, results_folder / \"global\")\n",
    "\n",
    "fig_data.savefig(results_folder / \"global/data_plot.pdf\")\n",
    "fig_traces.savefig(results_folder / \"global/traces_plot.pdf\")\n",
    "fig_ov.savefig(results_folder / \"global/overview_plot.pdf\")"
   ]
  }
 ],
 "metadata": {
  "kernelspec": {
   "display_name": "Python 3 (ipykernel)",
   "language": "python",
   "name": "python3"
  },
  "language_info": {
   "codemirror_mode": {
    "name": "ipython",
    "version": 3
   },
   "file_extension": ".py",
   "mimetype": "text/x-python",
   "name": "python",
   "nbconvert_exporter": "python",
   "pygments_lexer": "ipython3",
   "version": "3.8.12"
  }
 },
 "nbformat": 4,
 "nbformat_minor": 5
}
