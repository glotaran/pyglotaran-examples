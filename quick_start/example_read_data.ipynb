{
 "cells": [
  {
   "source": [
    "# Reading data example notebook\n",
    "\n",
    "Making use of the `glotaran.io.read_data_file` function"
   ],
   "cell_type": "markdown",
   "metadata": {}
  },
  {
   "cell_type": "code",
   "execution_count": null,
   "metadata": {},
   "outputs": [],
   "source": [
    "import os\n",
    "from pathlib import Path\n",
    "from timeit import default_timer as timer\n",
    "\n",
    "import matplotlib.pyplot as plt\n",
    "\n",
    "import glotaran\n"
   ]
  },
  {
   "cell_type": "code",
   "execution_count": null,
   "metadata": {},
   "outputs": [],
   "source": [
    "script_dir = Path(os.getcwd())\n",
    "print(f\"Running from: {str(script_dir)} \")\n",
    "data_path = script_dir.joinpath('../case_studies/2001-Gobets_et_al-Streakdata_PSI/data/data.ascii')\n",
    "print(f\"Loading data file from: {str(data_path)} \")\n",
    "dataset = glotaran.io.read_data_file(data_path)\n",
    "dataset"
   ]
  },
  {
   "source": [
    "## Additional information\n",
    "\n",
    "pyglotaran uses xarrays for data storage, read more: [quick overview](http://xarray.pydata.org/en/stable/quick-overview.html)\n"
   ],
   "cell_type": "markdown",
   "metadata": {}
  },
  {
   "cell_type": "code",
   "execution_count": null,
   "metadata": {},
   "outputs": [],
   "source": [
    "fig, axes = plt.subplots(ncols=2);\n",
    "dataset.data_left_singular_vectors.isel(left_singular_value_index=[0,1]).plot.line(ax=axes[0],x=\"time\",add_legend=False);\n",
    "dataset.data_right_singular_vectors.isel(right_singular_value_index=[0,1]).plot.line(ax=axes[1],x=\"spectral\",add_legend=False);"
   ]
  },
  {
   "cell_type": "code",
   "execution_count": null,
   "metadata": {},
   "outputs": [],
   "source": [
    "dataset.data.plot()\n",
    "plt.ylabel('Time (ps)')\n",
    "plt.xlabel('Wavelength (nm)')\n",
    "plt.tight_layout()\n",
    "plt.draw()"
   ]
  }
 ],
 "metadata": {
  "kernelspec": {
   "name": "python3",
   "display_name": "Python 3.8.6 64-bit",
   "metadata": {
    "interpreter": {
     "hash": "35cff3d048bea56d769b63224da3dc74c072fa88b83e556a3447a8a541608d69"
    }
   }
  },
  "language_info": {
   "codemirror_mode": {
    "name": "ipython",
    "version": 3
   },
   "file_extension": ".py",
   "mimetype": "text/x-python",
   "name": "python",
   "nbconvert_exporter": "python",
   "pygments_lexer": "ipython3",
   "version": "3.8.6-final"
  }
 },
 "nbformat": 4,
 "nbformat_minor": 4
}
